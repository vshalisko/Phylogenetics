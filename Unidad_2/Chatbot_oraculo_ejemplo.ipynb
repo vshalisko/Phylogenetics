{
  "nbformat": 4,
  "nbformat_minor": 0,
  "metadata": {
    "colab": {
      "provenance": [],
      "authorship_tag": "ABX9TyP8LwFakjr1ERZcgTpY/ZZR",
      "include_colab_link": true
    },
    "kernelspec": {
      "name": "python3",
      "display_name": "Python 3"
    },
    "language_info": {
      "name": "python"
    }
  },
  "cells": [
    {
      "cell_type": "markdown",
      "metadata": {
        "id": "view-in-github",
        "colab_type": "text"
      },
      "source": [
        "<a href=\"https://colab.research.google.com/github/vshalisko/Phylogenetics/blob/master/Unidad_2/Chatbot_oraculo_ejemplo.ipynb\" target=\"_parent\"><img src=\"https://colab.research.google.com/assets/colab-badge.svg\" alt=\"Open In Colab\"/></a>"
      ]
    },
    {
      "cell_type": "markdown",
      "source": [
        "### ¿Que tan facil es crear un Chatbot con Python?\n",
        "\n",
        "> It will take exactly 4 months, 3 weeks, 2 days, 1 hour, 46 minutes and 15 seconds to learn everything you need to know to build a simple chatbot. (opinión de un usuario de Reddit) https://www.reddit.com/r/learnpython/comments/1dc80lz/making_simple_chatbot/\n",
        "\n",
        "### Respuesta: Depende del tipo de Chatbot\n",
        "\n"
      ],
      "metadata": {
        "id": "odXzBYuNuISA"
      }
    },
    {
      "cell_type": "markdown",
      "source": [
        "Vamos a crear un Chatbot simple inspirado en código en un proyecto introductorio de Hyperskill\n",
        "* https://hyperskill.org/projects/97\n",
        "\n",
        "Soluciones:\n",
        "* https://github.com/syyynth/hyperskill/tree/main/python/0097%20-%20Simple%20Chatty%20Bot%20(Python)\n",
        "* https://github.com/Mathesh099/Simple-Chatty-Bot\n",
        "\n",
        "\n",
        "Adicionalmente (en la etapa avanzada del proyecto) vamos a ampliar nuestro chatbot con los los componentes que usan la biblioteca NLTK, similar a un ejemplo disponible en:\n",
        "* https://planetachatbot.com/construyendo-chatbot-simple-desde-cero-en-python-usando-nltk/\n",
        "\n"
      ],
      "metadata": {
        "id": "y3DFJx5BuO5x"
      }
    },
    {
      "cell_type": "markdown",
      "source": [
        "## Etapa básica del proyecto\n",
        "### Los elementos incluidos en siguientes apartados son obligatorios para una entrega de la tarea"
      ],
      "metadata": {
        "id": "ligaHTpZP4Jw"
      }
    },
    {
      "cell_type": "markdown",
      "source": [
        "### Vamos a saludar el usuario"
      ],
      "metadata": {
        "id": "_wI4EOtGQ7Kh"
      }
    },
    {
      "cell_type": "code",
      "source": [
        "print('¡Hola! Soy un ChatBot.')\n",
        "print('Me crearon en 2025 como parte de un ejercicio.')\n",
        "print('¿Y tu nombre cual es?.')\n",
        "nombre_usuario = str(input())\n",
        "print('¡Me encanta tu nombre, ' + nombre_usuario + \"!\")"
      ],
      "metadata": {
        "colab": {
          "base_uri": "https://localhost:8080/"
        },
        "id": "mrRx_wGKQF-u",
        "outputId": "d4fb3f57-c506-422f-8cbd-9c860d929147"
      },
      "execution_count": 38,
      "outputs": [
        {
          "output_type": "stream",
          "name": "stdout",
          "text": [
            "¡Hola! Soy un ChatBot.\n",
            "Me crearon en 2025 como parte de un ejercicio.\n",
            "¿Y tu nombre cual es?.\n",
            "Slava\n",
            "¡Me encanta tu nombre, Slava!\n"
          ]
        }
      ]
    },
    {
      "cell_type": "markdown",
      "source": [
        "### Ahora vamos a adivinar edad del usuario. Para esto le vamos a hacer algunas preguntas"
      ],
      "metadata": {
        "id": "cE4WtHWERAYy"
      }
    },
    {
      "cell_type": "code",
      "source": [
        "def adivinar_edad():\n",
        "    print('Me gustaria adivinar tu edad, ' + nombre_usuario + '.')\n",
        "    print('Para esto voy a hacer tres preguntas.')\n",
        "\n",
        "    rem3 = int(input('¿Cual es el remanente de división de tu edad en 3?\\n'))\n",
        "    rem5 = int(input('¿Cual es el remanente de división de tu edad en 5?\\n'))\n",
        "    rem7 = int(input('¿Cual es el remanente de división de tu edad en 7?\\n'))\n",
        "    age = (rem3 * 70 + rem5 * 21 + rem7 * 15) % 105\n",
        "\n",
        "    print(\"Creo que tu edad es \" + str(age) + \". ¡Es un momento maravilloso para estudiar Python!\")\n",
        "\n",
        "adivinar_edad()"
      ],
      "metadata": {
        "colab": {
          "base_uri": "https://localhost:8080/"
        },
        "id": "khfmTEIgRMOv",
        "outputId": "81922b63-5708-4b0a-bb03-d63ab248e63c"
      },
      "execution_count": 40,
      "outputs": [
        {
          "output_type": "stream",
          "name": "stdout",
          "text": [
            "Me gustaria adivinar tu edad, Slava.\n",
            "Para esto voy a hacer tres preguntas.\n",
            "¿Cual es el remanente de división de tu edad en 3?\n",
            "2\n",
            "¿Cual es el remanente de división de tu edad en 5?\n",
            "2\n",
            "¿Cual es el remanente de división de tu edad en 7?\n",
            "5\n",
            "Creo que tu edad es 47. ¡Es un momento maravilloso para estudiar Python!\n"
          ]
        }
      ]
    },
    {
      "cell_type": "markdown",
      "source": [
        "## Etapa avanzada del proyecto\n",
        "### Todo lo que se presenta aqui es opcional, pero permite hacer nuestro chatbot más divertido\n",
        "\n",
        "* Instalar la biblioteca **gensim** en el entorno virtual de Python.\n",
        "\n",
        "* Nota: Al momento de instalar la biblioteca por primera vez surante la sesion se requiere permitir reiniciar la sesión de Colab."
      ],
      "metadata": {
        "id": "ey594OBdB_SV"
      }
    },
    {
      "cell_type": "code",
      "source": [
        "%pip install gensim"
      ],
      "metadata": {
        "id": "mOzOer-n4T-r",
        "colab": {
          "base_uri": "https://localhost:8080/"
        },
        "outputId": "7b797d87-5e9e-428a-df27-57ac123d840e"
      },
      "execution_count": 20,
      "outputs": [
        {
          "output_type": "stream",
          "name": "stdout",
          "text": [
            "Requirement already satisfied: gensim in /usr/local/lib/python3.12/dist-packages (4.3.3)\n",
            "Requirement already satisfied: numpy<2.0,>=1.18.5 in /usr/local/lib/python3.12/dist-packages (from gensim) (1.26.4)\n",
            "Requirement already satisfied: scipy<1.14.0,>=1.7.0 in /usr/local/lib/python3.12/dist-packages (from gensim) (1.13.1)\n",
            "Requirement already satisfied: smart-open>=1.8.1 in /usr/local/lib/python3.12/dist-packages (from gensim) (7.3.0.post1)\n",
            "Requirement already satisfied: wrapt in /usr/local/lib/python3.12/dist-packages (from smart-open>=1.8.1->gensim) (1.17.3)\n"
          ]
        }
      ]
    },
    {
      "cell_type": "markdown",
      "source": [
        "* Cargar los componentes (bibliotecas) **re**, **nltk**, **numpy**, y algunos componentes de **gensim** y **sklearn**"
      ],
      "metadata": {
        "id": "5rEu6rvnInAm"
      }
    },
    {
      "cell_type": "code",
      "execution_count": 21,
      "metadata": {
        "id": "qYc7JdqruAfl"
      },
      "outputs": [],
      "source": [
        "import re\n",
        "import nltk\n",
        "import numpy as np\n",
        "\n",
        "from gensim.models import Word2Vec\n",
        "from sklearn.metrics.pairwise import cosine_similarity"
      ]
    },
    {
      "cell_type": "markdown",
      "source": [
        "* Descargar las bases de datos de **nltk**"
      ],
      "metadata": {
        "id": "Q-CmBv5OIxIS"
      }
    },
    {
      "cell_type": "code",
      "source": [
        "nltk.download('punkt')\n",
        "nltk.download('punkt_tab')\n",
        "nltk.download('stopwords')\n",
        "\n",
        "from nltk.corpus import stopwords"
      ],
      "metadata": {
        "colab": {
          "base_uri": "https://localhost:8080/"
        },
        "id": "H6RgHEQmrbuS",
        "outputId": "01a3baf0-836a-4b3a-9d76-b3e8aaf79cd2"
      },
      "execution_count": 22,
      "outputs": [
        {
          "output_type": "stream",
          "name": "stderr",
          "text": [
            "[nltk_data] Downloading package punkt to /root/nltk_data...\n",
            "[nltk_data]   Package punkt is already up-to-date!\n",
            "[nltk_data] Downloading package punkt_tab to /root/nltk_data...\n",
            "[nltk_data]   Package punkt_tab is already up-to-date!\n",
            "[nltk_data] Downloading package stopwords to /root/nltk_data...\n",
            "[nltk_data]   Package stopwords is already up-to-date!\n"
          ]
        }
      ]
    },
    {
      "cell_type": "markdown",
      "source": [
        "* Cargar las palabras de español incluidas en la lista de **stopwprds**"
      ],
      "metadata": {
        "id": "QbEeHFdHJ30O"
      }
    },
    {
      "cell_type": "code",
      "source": [
        "spanish_sw = set(stopwords.words('spanish'))\n",
        "#print(spanish_sw)"
      ],
      "metadata": {
        "id": "iEDWqGn-zsW2"
      },
      "execution_count": 23,
      "outputs": []
    },
    {
      "cell_type": "markdown",
      "source": [
        "* Conectar **Google Drive** del usuario (de alla vamos a cargar la base de datos de frases celebres)"
      ],
      "metadata": {
        "id": "AJKIGpOuIzSm"
      }
    },
    {
      "cell_type": "code",
      "source": [
        "from google.colab import drive\n",
        "drive.mount('/content/drive')"
      ],
      "metadata": {
        "id": "u0_fpNpmuldh",
        "colab": {
          "base_uri": "https://localhost:8080/"
        },
        "outputId": "34454a60-0ceb-4449-a14d-e3465638e981"
      },
      "execution_count": 24,
      "outputs": [
        {
          "output_type": "stream",
          "name": "stdout",
          "text": [
            "Drive already mounted at /content/drive; to attempt to forcibly remount, call drive.mount(\"/content/drive\", force_remount=True).\n"
          ]
        }
      ]
    },
    {
      "cell_type": "markdown",
      "source": [
        "* Leer el archivo con la base de datos de frases celebres desde **Google Drive**"
      ],
      "metadata": {
        "id": "8VqicodWmHLo"
      }
    },
    {
      "cell_type": "code",
      "source": [
        "path = '/content/drive/MyDrive/Colab Data/'\n",
        "file = 'frases_celebres_seleccion.txt'\n",
        "\n",
        "frases = ''\n",
        "with open(path + file, 'r', errors = 'ignore') as f:\n",
        "  frases = f.read()\n",
        "  #print(frases)"
      ],
      "metadata": {
        "id": "_fmwLjIeusfO"
      },
      "execution_count": 34,
      "outputs": []
    },
    {
      "cell_type": "markdown",
      "source": [
        "* Pre-procesar la base de datos de frases célebres\n",
        "1. Convertir texto a registro bajo\n",
        "2. Separar las frases\n",
        "3. Separar palabras (opcional)"
      ],
      "metadata": {
        "id": "GfdJI-GUNYrK"
      }
    },
    {
      "cell_type": "code",
      "source": [
        "# convertir texto plano a lista de frases\n",
        "onlysent_tokens = nltk.sent_tokenize(frases)\n",
        "# reemplazar simbolos de nueva linea ocn espacios\n",
        "onlysent_tokens = [sentence.replace('\\n', ' ') for sentence in onlysent_tokens]\n",
        "\n",
        "# generar una copia de texto con en lowercase\n",
        "frases_lc = frases.lower()\n",
        "# convertir texto a lista de palabras\n",
        "word_tokens = nltk.word_tokenize(frases_lc)\n",
        "\n",
        "print(\"\\nNúmero de frases célebres en la base de datos:\")\n",
        "print(len(onlysent_tokens))\n",
        "\n",
        "print(\"\\nEjemplo de frases celebres:\")\n",
        "print(onlysent_tokens[0:3])\n",
        "\n",
        "print(\"\\nNúmero de palabras en labase de datos de frases célebres:\")\n",
        "print(len(word_tokens))\n"
      ],
      "metadata": {
        "id": "RXyVtyVruWRh",
        "colab": {
          "base_uri": "https://localhost:8080/"
        },
        "outputId": "ae0f3294-5256-4e7a-eda5-978e470a5f5b"
      },
      "execution_count": 41,
      "outputs": [
        {
          "output_type": "stream",
          "name": "stdout",
          "text": [
            "\n",
            "Número de frases célebres en la base de datos:\n",
            "639\n",
            "\n",
            "Ejemplo de frases celebres:\n",
            "['¿Encontraría a la Maga?', 'Tan de vez en cuando uno tiene ganas de encontrarse a sí mismo.', 'A buen hambre, no hay pan duro.']\n",
            "\n",
            "Número de palabras en labase de datos de frases célebres:\n",
            "7329\n"
          ]
        }
      ]
    },
    {
      "cell_type": "markdown",
      "source": [
        "* Construir el modelo **Word2Vec** a partir de la base de datos de frases célebres.\n",
        "\n",
        "Trata de un modelo donde los grupos de palabras se colocan en un espacio de factores para representar el vector de su significado"
      ],
      "metadata": {
        "id": "Ms8cOVP8KEqP"
      }
    },
    {
      "cell_type": "code",
      "source": [
        "# Preprocesar texto para generar el modelo Word2Vec\n",
        "# quitar los simbolos de punctuación y convertir palabras al registro bajo\n",
        "corpus_sentences = [re.sub(r'[^\\w\\s]', '', sentence.lower()).split() for sentence in onlysent_tokens]\n",
        "#print(type(corpus_sentences))\n",
        "#print(len(corpus_sentences))\n",
        "#print(corpus_sentences[0:3])\n",
        "\n",
        "# funcion para eliminar stopwords\n",
        "def remove_stopwords(sentence_words, sw):\n",
        "  filtered_words = [word for word in sentence_words if word not in sw]\n",
        "  return filtered_words\n",
        "\n",
        "# eliminar stopwords de la base de datos\n",
        "filtered_sentences = []\n",
        "for sentence in corpus_sentences:\n",
        "  filtered_sentence = remove_stopwords(sentence, spanish_sw)\n",
        "  filtered_sentences.append(filtered_sentence)\n",
        "\n",
        "#print(type(filtered_sentences))\n",
        "#print(len(filtered_sentences))\n",
        "#print(filtered_sentences[0:3])\n",
        "\n",
        "# Entrenar el modelo Word2Vec\n",
        "model = Word2Vec(min_count=1,\n",
        "                     window=6,\n",
        "                     vector_size=300,\n",
        "                     sample=6e-5,\n",
        "                     alpha=0.03,\n",
        "                     min_alpha=0.0007,\n",
        "                     negative=20,\n",
        "                     workers=4)\n",
        "\n",
        "model.build_vocab(filtered_sentences, progress_per=1000)\n",
        "model.train(filtered_sentences, total_examples=model.corpus_count, epochs=30, report_delay=1)\n",
        "\n",
        "# Entrenar el modelo Word2Vec (simple)\n",
        "#model = Word2Vec(sentences=filtered_sentences, vector_size=100, window=5, min_count=1, workers=4)\n",
        "\n",
        "print(\"\\nCaracteristicas del modelo Word2Vec\")\n",
        "print(model)"
      ],
      "metadata": {
        "colab": {
          "base_uri": "https://localhost:8080/"
        },
        "id": "VwHAbRfc1Irh",
        "outputId": "fdd3f43a-340f-42c5-88cf-f93fd80997eb"
      },
      "execution_count": 42,
      "outputs": [
        {
          "output_type": "stream",
          "name": "stdout",
          "text": [
            "\n",
            "Caracteristicas del modelo Word2Vec\n",
            "Word2Vec<vocab=1534, vector_size=300, alpha=0.03>\n"
          ]
        }
      ]
    },
    {
      "cell_type": "markdown",
      "source": [
        "### Ahora podemos regresar a interactuar con el usuario en marco de nuestro ChatBot\n",
        "* Preguntar al usuario por una frase"
      ],
      "metadata": {
        "id": "EXgfCo-tKlPe"
      }
    },
    {
      "cell_type": "code",
      "source": [
        "user_input = str(input(user_name + \", introduce su pregunta o algo que te gustaria discutir: \"))"
      ],
      "metadata": {
        "colab": {
          "base_uri": "https://localhost:8080/"
        },
        "id": "nKTY7I100rLt",
        "outputId": "9b883a49-045a-4e9a-9f2c-6f6ea7556919"
      },
      "execution_count": 43,
      "outputs": [
        {
          "name": "stdout",
          "output_type": "stream",
          "text": [
            "Slava, introduce su pregunta o algo que te gustaria discutir: ¿Cunatos años se requiere para completar los estudios en la universidad?\n"
          ]
        }
      ]
    },
    {
      "cell_type": "markdown",
      "source": [
        "* Comparar la frase con la base de datos de frases celebres y buscar la frase celebre con el significado mas cercana a la frase proporcionada por el usuario"
      ],
      "metadata": {
        "id": "LIryo4nGKxNX"
      }
    },
    {
      "cell_type": "code",
      "source": [
        "\n",
        "# Funcion para construir el vector de una frase\n",
        "def get_sentence_vector(sentence, model):\n",
        "    # separar frase en palabras\n",
        "    words = sentence.split()\n",
        "\n",
        "    # quitar simbolos de puntuacion\n",
        "    words = re.sub(r'[^\\w\\s]', '', sentence.lower()).split()\n",
        "\n",
        "    # determinar el vector de cada palabra en la frase en forma de lista\n",
        "    word_vectors = [model.wv[word] for word in words if word in model.wv]\n",
        "\n",
        "    # en caso que vector es vacio generar el vector de ceros y regresarlo\n",
        "    if not word_vectors:\n",
        "        return np.zeros(model.vector_size)\n",
        "\n",
        "    # en caso que vector no es vacio generar un promedio y regresarlo\n",
        "    return np.mean(word_vectors, axis=0)\n",
        "\n",
        "# Procesar la pregunta del usuario para construir su vector\n",
        "filtered_user_input = remove_stopwords(user_input.split(), spanish_sw)\n",
        "filtered_user_input_ok = \" \".join(filtered_user_input)\n",
        "user_input_vector = get_sentence_vector(filtered_user_input_ok, model)\n",
        "\n",
        "print(\"Pregunta de \" + nombre_usuario + \": \" + str(user_input))\n",
        "#print(\"Pregunta del ususrio filtrada: \" + str(filtered_user_input))\n",
        "#print(\"Vector del modelo:\")\n",
        "#print(user_input_vector)\n",
        "\n",
        "# Encontrar la frase mas cercana por el signiicado entre frases célebres\n",
        "most_similar_sentence = \"\"\n",
        "max_similarity = -1\n",
        "\n",
        "for i, sentence in enumerate(onlysent_tokens):\n",
        "    sentence_vector = get_sentence_vector(sentence, model)\n",
        "    if np.linalg.norm(user_input_vector) != 0 and np.linalg.norm(sentence_vector) != 0:\n",
        "        similarity = cosine_similarity([user_input_vector], [sentence_vector])[0][0]\n",
        "        if similarity > max_similarity:\n",
        "            max_similarity = similarity\n",
        "            most_similar_sentence = onlysent_tokens[i]\n",
        "\n",
        "# La frase de mayor similitud:\n",
        "#print(\"Primera frase\")\n",
        "#print(most_similar_sentence)\n",
        "#print(\"Segunda frase\")\n",
        "#print(most_similar_sentence_2)\n",
        "\n",
        "\n",
        "if not most_similar_sentence:\n",
        "  print(nombre_usuario + \", lamento, pero no tengo nada que responder en esta ocasión\")\n",
        "else:\n",
        "  print(\"La respuesta es: \" + most_similar_sentence)"
      ],
      "metadata": {
        "colab": {
          "base_uri": "https://localhost:8080/"
        },
        "id": "I5cVy7YJkmYX",
        "outputId": "a805073c-c680-4e18-f3e8-11c4f0b5fabf"
      },
      "execution_count": 44,
      "outputs": [
        {
          "output_type": "stream",
          "name": "stdout",
          "text": [
            "Pregunta de Slava: ¿Cunatos años se requiere para completar los estudios en la universidad?\n",
            "La respuesta es: No hay mal que dure cien años.\n"
          ]
        }
      ]
    }
  ]
}